{
  "cells": [
    {
      "cell_type": "code",
      "execution_count": 2,
      "metadata": {
        "id": "1Ei8HSHamsBG"
      },
      "outputs": [],
      "source": [
        "%%capture\n",
        "!pip install fairseq2\n",
        "!pip install pydub sentencepiece\n",
        "!pip install git+https://github.com/facebookresearch/seamless_communication.git\n",
        "! pip install fastapi uvicorn python-multipart"
      ]
    },
    {
      "cell_type": "code",
      "source": [
        "! pip install python-multipart"
      ],
      "metadata": {
        "colab": {
          "base_uri": "https://localhost:8080/"
        },
        "id": "TnvYQjoRKnMz",
        "outputId": "34b2f054-df7b-4e67-f095-c48760e55a98"
      },
      "execution_count": 5,
      "outputs": [
        {
          "output_type": "stream",
          "name": "stdout",
          "text": [
            "Collecting python-multipart\n",
            "  Downloading python_multipart-0.0.20-py3-none-any.whl.metadata (1.8 kB)\n",
            "Downloading python_multipart-0.0.20-py3-none-any.whl (24 kB)\n",
            "Installing collected packages: python-multipart\n",
            "Successfully installed python-multipart-0.0.20\n"
          ]
        }
      ]
    },
    {
      "cell_type": "code",
      "source": [
        "!pip install fastapi uvicorn pyngrok nest-asyncio\n"
      ],
      "metadata": {
        "colab": {
          "base_uri": "https://localhost:8080/"
        },
        "id": "swJ1SZXaLZ47",
        "outputId": "acccf992-875c-4e8b-9f46-2184ccc3a565"
      },
      "execution_count": 10,
      "outputs": [
        {
          "output_type": "stream",
          "name": "stdout",
          "text": [
            "Requirement already satisfied: fastapi in /usr/local/lib/python3.11/dist-packages (0.115.12)\n",
            "Requirement already satisfied: uvicorn in /usr/local/lib/python3.11/dist-packages (0.34.2)\n",
            "Collecting pyngrok\n",
            "  Downloading pyngrok-7.2.8-py3-none-any.whl.metadata (10 kB)\n",
            "Requirement already satisfied: nest-asyncio in /usr/local/lib/python3.11/dist-packages (1.6.0)\n",
            "Requirement already satisfied: starlette<0.47.0,>=0.40.0 in /usr/local/lib/python3.11/dist-packages (from fastapi) (0.46.2)\n",
            "Requirement already satisfied: pydantic!=1.8,!=1.8.1,!=2.0.0,!=2.0.1,!=2.1.0,<3.0.0,>=1.7.4 in /usr/local/lib/python3.11/dist-packages (from fastapi) (2.11.4)\n",
            "Requirement already satisfied: typing-extensions>=4.8.0 in /usr/local/lib/python3.11/dist-packages (from fastapi) (4.13.2)\n",
            "Requirement already satisfied: click>=7.0 in /usr/local/lib/python3.11/dist-packages (from uvicorn) (8.1.8)\n",
            "Requirement already satisfied: h11>=0.8 in /usr/local/lib/python3.11/dist-packages (from uvicorn) (0.16.0)\n",
            "Requirement already satisfied: PyYAML>=5.1 in /usr/local/lib/python3.11/dist-packages (from pyngrok) (6.0.2)\n",
            "Requirement already satisfied: annotated-types>=0.6.0 in /usr/local/lib/python3.11/dist-packages (from pydantic!=1.8,!=1.8.1,!=2.0.0,!=2.0.1,!=2.1.0,<3.0.0,>=1.7.4->fastapi) (0.7.0)\n",
            "Requirement already satisfied: pydantic-core==2.33.2 in /usr/local/lib/python3.11/dist-packages (from pydantic!=1.8,!=1.8.1,!=2.0.0,!=2.0.1,!=2.1.0,<3.0.0,>=1.7.4->fastapi) (2.33.2)\n",
            "Requirement already satisfied: typing-inspection>=0.4.0 in /usr/local/lib/python3.11/dist-packages (from pydantic!=1.8,!=1.8.1,!=2.0.0,!=2.0.1,!=2.1.0,<3.0.0,>=1.7.4->fastapi) (0.4.0)\n",
            "Requirement already satisfied: anyio<5,>=3.6.2 in /usr/local/lib/python3.11/dist-packages (from starlette<0.47.0,>=0.40.0->fastapi) (4.9.0)\n",
            "Requirement already satisfied: idna>=2.8 in /usr/local/lib/python3.11/dist-packages (from anyio<5,>=3.6.2->starlette<0.47.0,>=0.40.0->fastapi) (3.10)\n",
            "Requirement already satisfied: sniffio>=1.1 in /usr/local/lib/python3.11/dist-packages (from anyio<5,>=3.6.2->starlette<0.47.0,>=0.40.0->fastapi) (1.3.1)\n",
            "Downloading pyngrok-7.2.8-py3-none-any.whl (25 kB)\n",
            "Installing collected packages: pyngrok\n",
            "Successfully installed pyngrok-7.2.8\n"
          ]
        }
      ]
    },
    {
      "cell_type": "code",
      "execution_count": 3,
      "metadata": {
        "id": "TWlkq20jms6V"
      },
      "outputs": [],
      "source": [
        "import io\n",
        "import json\n",
        "import matplotlib as mpl\n",
        "import matplotlib.pyplot as plt\n",
        "import mmap\n",
        "import numpy\n",
        "import soundfile\n",
        "import torchaudio\n",
        "import torch\n",
        "import warnings\n",
        "warnings.filterwarnings(\"ignore\")\n",
        "from collections import defaultdict\n",
        "from IPython.display import Audio, display\n",
        "from pathlib import Path\n",
        "from pydub import AudioSegment\n",
        "\n",
        "from seamless_communication.inference import Translator\n",
        "from seamless_communication.streaming.dataloaders.s2tt import SileroVADSilenceRemover\n",
        "from fastapi import FastAPI, File, UploadFile, Form, HTTPException\n",
        "from fastapi.responses import JSONResponse\n",
        "from pydantic import BaseModel\n",
        "import uvicorn\n",
        "import torchaudio\n",
        "import tempfile\n",
        "import os\n",
        "import torch\n",
        "from pydub import AudioSegment\n",
        "from seamless_communication.inference import Translator"
      ]
    },
    {
      "cell_type": "markdown",
      "metadata": {
        "id": "j25uCSvKHRKu"
      },
      "source": [
        "# SeamlessM4T Inference:"
      ]
    },
    {
      "cell_type": "markdown",
      "metadata": {
        "id": "06JLP7rIEzfP"
      },
      "source": [
        "## Initialize the models:"
      ]
    },
    {
      "cell_type": "code",
      "source": [
        "%%writefile app.py\n",
        "import io\n",
        "import json\n",
        "import tempfile\n",
        "import os\n",
        "import torch\n",
        "import torchaudio\n",
        "import warnings\n",
        "from pydub import AudioSegment\n",
        "from fastapi import FastAPI, File, UploadFile, Form, HTTPException\n",
        "from fastapi.responses import JSONResponse\n",
        "from pydantic import BaseModel\n",
        "from seamless_communication.inference import Translator\n",
        "import uvicorn\n",
        "\n",
        "# Silence warnings\n",
        "warnings.filterwarnings(\"ignore\")\n",
        "\n",
        "app = FastAPI(title=\"Translation API\")\n",
        "\n",
        "# Initialize Translator\n",
        "model_name = \"seamlessM4T_v2_large\"\n",
        "vocoder_name = \"vocoder_v2\" if model_name == \"seamlessM4T_v2_large\" else \"vocoder_36langs\"\n",
        "\n",
        "translator = Translator(\n",
        "    model_name,\n",
        "    vocoder_name,\n",
        "    device=torch.device(\"cuda:0\"),\n",
        "    dtype=torch.float16,\n",
        ")\n",
        "\n",
        "@app.get(\"/\")\n",
        "def root():\n",
        "    return {\"message\": \"Welcome to the Translation API\"}\n",
        "\n",
        "@app.get(\"/health\")\n",
        "def health():\n",
        "    return {\"status\": \"healthy\"}\n",
        "\n",
        "@app.post(\"/s2tt\")\n",
        "async def speech_to_text_translation(\n",
        "    audio: UploadFile = File(...),\n",
        "    src_lang: str = Form(...),\n",
        "    tgt_lang: str = Form(...)\n",
        "):\n",
        "    try:\n",
        "        if not audio.filename.endswith(\".wav\"):\n",
        "            # Convert to wav using pydub\n",
        "            temp = tempfile.NamedTemporaryFile(delete=False, suffix=\".wav\")\n",
        "            audio_data = await audio.read()\n",
        "            audio_segment = AudioSegment.from_file(io.BytesIO(audio_data))\n",
        "            audio_segment.export(temp.name, format=\"wav\")\n",
        "            input_path = temp.name\n",
        "        else:\n",
        "            input_path = tempfile.NamedTemporaryFile(delete=False, suffix=\".wav\").name\n",
        "            with open(input_path, \"wb\") as f:\n",
        "                f.write(await audio.read())\n",
        "\n",
        "        # Resample to 16kHz if necessary\n",
        "        waveform, orig_freq = torchaudio.load(input_path)\n",
        "        if orig_freq != 16000:\n",
        "            waveform = torchaudio.functional.resample(waveform, orig_freq, 16000)\n",
        "            torchaudio.save(input_path, waveform, 16000)\n",
        "\n",
        "        # Translate: Calling the translator's prediction method\n",
        "        text_output, _ = translator.predict(\n",
        "            input=input_path,\n",
        "            task_str=\"s2tt\",\n",
        "            tgt_lang=tgt_lang\n",
        "        )\n",
        "        os.remove(input_path)  # Clean up the temporary file\n",
        "\n",
        "        # Ensure we only return a string as the response\n",
        "        return {\"translated_text\": str(text_output[0])}\n",
        "\n",
        "    except Exception as e:\n",
        "        os.remove(input_path) if os.path.exists(input_path) else None\n",
        "        raise HTTPException(status_code=500, detail=f\"Error in S2TT: {str(e)}\")\n",
        "\n",
        "class T2TTRequest(BaseModel):\n",
        "    text: str\n",
        "    src_lang: str\n",
        "    tgt_lang: str\n",
        "\n",
        "@app.post(\"/t2tt\")\n",
        "def text_to_text_translation(req: T2TTRequest):\n",
        "    try:\n",
        "        # Translate: Calling the translator's prediction method\n",
        "        text_output, _ = translator.predict(\n",
        "            input=req.text,\n",
        "            task_str=\"t2tt\",\n",
        "            tgt_lang=req.tgt_lang,\n",
        "            src_lang=req.src_lang\n",
        "        )\n",
        "\n",
        "        # Ensure we return a string as the response\n",
        "        return {\"translated_text\": str(text_output[0])}\n",
        "\n",
        "    except Exception as e:\n",
        "        raise HTTPException(status_code=500, detail=f\"Error in T2TT: {str(e)}\")\n",
        "\n"
      ],
      "metadata": {
        "colab": {
          "base_uri": "https://localhost:8080/"
        },
        "id": "fkspOlXRJGXM",
        "outputId": "d656e6fc-7f10-4e30-c2bb-effd93a67cd5"
      },
      "execution_count": 5,
      "outputs": [
        {
          "output_type": "stream",
          "name": "stdout",
          "text": [
            "Writing app.py\n"
          ]
        }
      ]
    },
    {
      "cell_type": "code",
      "source": [
        "!ngrok authtoken 2w8thcW8MSmMmR5dX0mtqpOMXdV_5p5vYumCPrS4op7gjyRh6"
      ],
      "metadata": {
        "colab": {
          "base_uri": "https://localhost:8080/"
        },
        "id": "JJlHRyniOIyM",
        "outputId": "3fce9124-7e22-4747-ab8e-73044659dc43"
      },
      "execution_count": 8,
      "outputs": [
        {
          "output_type": "stream",
          "name": "stdout",
          "text": [
            "Authtoken saved to configuration file: /root/.config/ngrok/ngrok.yml\n"
          ]
        }
      ]
    },
    {
      "cell_type": "code",
      "source": [
        "from pyngrok import ngrok\n",
        "import nest_asyncio\n",
        "import uvicorn\n",
        "\n",
        "# Needed to allow uvicorn to run inside Colab\n",
        "nest_asyncio.apply()\n",
        "\n",
        "# Expose port 8000 with ngrok\n",
        "public_url = ngrok.connect(8000)\n",
        "print(\"Public URL:\", public_url)"
      ],
      "metadata": {
        "colab": {
          "base_uri": "https://localhost:8080/"
        },
        "id": "Mx1zHkD0Mdds",
        "outputId": "6f08a7ec-98fa-4a55-f96e-2e18af999b87"
      },
      "execution_count": 9,
      "outputs": [
        {
          "output_type": "stream",
          "name": "stdout",
          "text": [
            "Public URL: NgrokTunnel: \"https://023a-34-124-166-92.ngrok-free.app\" -> \"http://localhost:8000\"\n"
          ]
        }
      ]
    },
    {
      "cell_type": "code",
      "source": [
        "!uvicorn app:app --host 0.0.0.0 --port 8000"
      ],
      "metadata": {
        "colab": {
          "base_uri": "https://localhost:8080/"
        },
        "id": "qlMc4L4fN35D",
        "outputId": "1043cba1-1522-4527-a09a-394bd8f40968"
      },
      "execution_count": 10,
      "outputs": [
        {
          "output_type": "stream",
          "name": "stdout",
          "text": [
            "Using the cached checkpoint of seamlessM4T_v2_large. Set `force` to `True` to download again.\n",
            "Using the cached tokenizer of seamlessM4T_v2_large. Set `force` to `True` to download again.\n",
            "Using the cached tokenizer of seamlessM4T_v2_large. Set `force` to `True` to download again.\n",
            "Using the cached tokenizer of seamlessM4T_v2_large. Set `force` to `True` to download again.\n",
            "Using the cached checkpoint of vocoder_v2. Set `force` to `True` to download again.\n",
            "\u001b[32mINFO\u001b[0m:     Started server process [\u001b[36m10629\u001b[0m]\n",
            "\u001b[32mINFO\u001b[0m:     Waiting for application startup.\n",
            "\u001b[32mINFO\u001b[0m:     Application startup complete.\n",
            "\u001b[32mINFO\u001b[0m:     Uvicorn running on \u001b[1mhttp://0.0.0.0:8000\u001b[0m (Press CTRL+C to quit)\n",
            "\u001b[32mINFO\u001b[0m:     197.55.7.69:0 - \"\u001b[1mGET / HTTP/1.1\u001b[0m\" \u001b[32m200 OK\u001b[0m\n",
            "\u001b[32mINFO\u001b[0m:     197.55.7.69:0 - \"\u001b[1mGET /favicon.ico HTTP/1.1\u001b[0m\" \u001b[31m404 Not Found\u001b[0m\n",
            "\u001b[32mINFO\u001b[0m:     35.201.145.24:0 - \"\u001b[1mPOST /t2tt HTTP/1.1\u001b[0m\" \u001b[91m500 Internal Server Error\u001b[0m\n",
            "\u001b[32mINFO\u001b[0m:     35.201.145.24:0 - \"\u001b[1mPOST /t2tt HTTP/1.1\u001b[0m\" \u001b[32m200 OK\u001b[0m\n",
            "\u001b[32mINFO\u001b[0m:     35.201.145.24:0 - \"\u001b[1mPOST / HTTP/1.1\u001b[0m\" \u001b[31m405 Method Not Allowed\u001b[0m\n",
            "\u001b[32mINFO\u001b[0m:     35.201.145.24:0 - \"\u001b[1mPOST /s2tt HTTP/1.1\u001b[0m\" \u001b[32m200 OK\u001b[0m\n",
            "\u001b[32mINFO\u001b[0m:     Shutting down\n",
            "\u001b[32mINFO\u001b[0m:     Finished server process [\u001b[36m10629\u001b[0m]\n",
            "\u001b[31mERROR\u001b[0m:    Traceback (most recent call last):\n",
            "  File \"/usr/lib/python3.11/asyncio/runners.py\", line 190, in run\n",
            "    return runner.run(main)\n",
            "           ^^^^^^^^^^^^^^^^\n",
            "  File \"/usr/lib/python3.11/asyncio/runners.py\", line 118, in run\n",
            "    return self._loop.run_until_complete(task)\n",
            "           ^^^^^^^^^^^^^^^^^^^^^^^^^^^^^^^^^^^\n",
            "  File \"/usr/lib/python3.11/asyncio/base_events.py\", line 641, in run_until_complete\n",
            "    self.run_forever()\n",
            "  File \"/usr/lib/python3.11/asyncio/base_events.py\", line 608, in run_forever\n",
            "    self._run_once()\n",
            "  File \"/usr/lib/python3.11/asyncio/base_events.py\", line 1936, in _run_once\n",
            "    handle._run()\n",
            "  File \"/usr/lib/python3.11/asyncio/events.py\", line 84, in _run\n",
            "    self._context.run(self._callback, *self._args)\n",
            "  File \"/usr/local/lib/python3.11/dist-packages/uvicorn/server.py\", line 69, in serve\n",
            "    with self.capture_signals():\n",
            "  File \"/usr/lib/python3.11/contextlib.py\", line 144, in __exit__\n",
            "    next(self.gen)\n",
            "  File \"/usr/local/lib/python3.11/dist-packages/uvicorn/server.py\", line 330, in capture_signals\n",
            "    signal.raise_signal(captured_signal)\n",
            "  File \"/usr/lib/python3.11/asyncio/runners.py\", line 157, in _on_sigint\n",
            "    raise KeyboardInterrupt()\n",
            "KeyboardInterrupt\n",
            "\n",
            "During handling of the above exception, another exception occurred:\n",
            "\n",
            "Traceback (most recent call last):\n",
            "  File \"/usr/local/lib/python3.11/dist-packages/starlette/routing.py\", line 699, in lifespan\n",
            "    await receive()\n",
            "  File \"/usr/local/lib/python3.11/dist-packages/uvicorn/lifespan/on.py\", line 137, in receive\n",
            "    return await self.receive_queue.get()\n",
            "           ^^^^^^^^^^^^^^^^^^^^^^^^^^^^^^\n",
            "  File \"/usr/lib/python3.11/asyncio/queues.py\", line 158, in get\n",
            "    await getter\n",
            "asyncio.exceptions.CancelledError\n",
            "\n"
          ]
        }
      ]
    },
    {
      "cell_type": "code",
      "source": [],
      "metadata": {
        "id": "0qJUIEggOQLV"
      },
      "execution_count": null,
      "outputs": []
    }
  ],
  "metadata": {
    "accelerator": "GPU",
    "colab": {
      "provenance": [],
      "gpuType": "T4"
    },
    "kernelspec": {
      "display_name": "Python 3",
      "name": "python3"
    },
    "language_info": {
      "name": "python"
    }
  },
  "nbformat": 4,
  "nbformat_minor": 0
}